{
 "cells": [
  {
   "cell_type": "code",
   "execution_count": 5,
   "metadata": {},
   "outputs": [
    {
     "name": "stderr",
     "output_type": "stream",
     "text": [
      "[nltk_data] Downloading package stopwords to\n",
      "[nltk_data]     C:\\Users\\Ken\\AppData\\Roaming\\nltk_data...\n",
      "[nltk_data]   Package stopwords is already up-to-date!\n",
      "[nltk_data] Downloading package wordnet to\n",
      "[nltk_data]     C:\\Users\\Ken\\AppData\\Roaming\\nltk_data...\n",
      "[nltk_data]   Package wordnet is already up-to-date!\n",
      "[nltk_data] Downloading package punkt to\n",
      "[nltk_data]     C:\\Users\\Ken\\AppData\\Roaming\\nltk_data...\n",
      "[nltk_data]   Package punkt is already up-to-date!\n"
     ]
    }
   ],
   "source": [
    "#Step 1 \n",
    "import pandas as pd\n",
    "from sklearn.feature_extraction.text import CountVectorizer\n",
    "from sklearn.decomposition import LatentDirichletAllocation\n",
    "import nltk\n",
    "from nltk.corpus import stopwords\n",
    "from nltk.stem import WordNetLemmatizer\n",
    "\n",
    "# Download necessary NLTK data\n",
    "nltk.download('stopwords')\n",
    "nltk.download('wordnet')\n",
    "nltk.download('punkt')\n",
    "\n",
    "# Initialize the lemmatizer and stop words\n",
    "lemmatizer = WordNetLemmatizer()\n",
    "stop_words = set(stopwords.words('english'))\n",
    "\n",
    "# Adjusted function to preprocess text with a check for non-string inputs\n",
    "def preprocess_nltk(text):\n",
    "    if not isinstance(text, str):\n",
    "        return ''  # Return an empty string for non-string inputs\n",
    "    tokens = nltk.word_tokenize(text)\n",
    "    tokens = [word.lower() for word in tokens if word.isalpha()]\n",
    "    lemmatized = [lemmatizer.lemmatize(token) for token in tokens if token not in stop_words]\n",
    "    return ' '.join(lemmatized)\n",
    "\n",
    "# Load the reviews dataset\n",
    "df = pd.read_csv('IA3-2.csv')\n",
    "\n",
    "# Apply preprocessing to each review\n",
    "df['processed_reviews'] = df['review'].apply(preprocess_nltk)\n",
    "\n",
    "# Create a term-document matrix\n",
    "vectorizer = CountVectorizer(min_df=5, ngram_range=(1, 2))\n",
    "dtm = vectorizer.fit_transform(df['processed_reviews'])\n"
   ]
  },
  {
   "cell_type": "code",
   "execution_count": 6,
   "metadata": {},
   "outputs": [
    {
     "data": {
      "text/html": [
       "<style>#sk-container-id-1 {color: black;background-color: white;}#sk-container-id-1 pre{padding: 0;}#sk-container-id-1 div.sk-toggleable {background-color: white;}#sk-container-id-1 label.sk-toggleable__label {cursor: pointer;display: block;width: 100%;margin-bottom: 0;padding: 0.3em;box-sizing: border-box;text-align: center;}#sk-container-id-1 label.sk-toggleable__label-arrow:before {content: \"▸\";float: left;margin-right: 0.25em;color: #696969;}#sk-container-id-1 label.sk-toggleable__label-arrow:hover:before {color: black;}#sk-container-id-1 div.sk-estimator:hover label.sk-toggleable__label-arrow:before {color: black;}#sk-container-id-1 div.sk-toggleable__content {max-height: 0;max-width: 0;overflow: hidden;text-align: left;background-color: #f0f8ff;}#sk-container-id-1 div.sk-toggleable__content pre {margin: 0.2em;color: black;border-radius: 0.25em;background-color: #f0f8ff;}#sk-container-id-1 input.sk-toggleable__control:checked~div.sk-toggleable__content {max-height: 200px;max-width: 100%;overflow: auto;}#sk-container-id-1 input.sk-toggleable__control:checked~label.sk-toggleable__label-arrow:before {content: \"▾\";}#sk-container-id-1 div.sk-estimator input.sk-toggleable__control:checked~label.sk-toggleable__label {background-color: #d4ebff;}#sk-container-id-1 div.sk-label input.sk-toggleable__control:checked~label.sk-toggleable__label {background-color: #d4ebff;}#sk-container-id-1 input.sk-hidden--visually {border: 0;clip: rect(1px 1px 1px 1px);clip: rect(1px, 1px, 1px, 1px);height: 1px;margin: -1px;overflow: hidden;padding: 0;position: absolute;width: 1px;}#sk-container-id-1 div.sk-estimator {font-family: monospace;background-color: #f0f8ff;border: 1px dotted black;border-radius: 0.25em;box-sizing: border-box;margin-bottom: 0.5em;}#sk-container-id-1 div.sk-estimator:hover {background-color: #d4ebff;}#sk-container-id-1 div.sk-parallel-item::after {content: \"\";width: 100%;border-bottom: 1px solid gray;flex-grow: 1;}#sk-container-id-1 div.sk-label:hover label.sk-toggleable__label {background-color: #d4ebff;}#sk-container-id-1 div.sk-serial::before {content: \"\";position: absolute;border-left: 1px solid gray;box-sizing: border-box;top: 0;bottom: 0;left: 50%;z-index: 0;}#sk-container-id-1 div.sk-serial {display: flex;flex-direction: column;align-items: center;background-color: white;padding-right: 0.2em;padding-left: 0.2em;position: relative;}#sk-container-id-1 div.sk-item {position: relative;z-index: 1;}#sk-container-id-1 div.sk-parallel {display: flex;align-items: stretch;justify-content: center;background-color: white;position: relative;}#sk-container-id-1 div.sk-item::before, #sk-container-id-1 div.sk-parallel-item::before {content: \"\";position: absolute;border-left: 1px solid gray;box-sizing: border-box;top: 0;bottom: 0;left: 50%;z-index: -1;}#sk-container-id-1 div.sk-parallel-item {display: flex;flex-direction: column;z-index: 1;position: relative;background-color: white;}#sk-container-id-1 div.sk-parallel-item:first-child::after {align-self: flex-end;width: 50%;}#sk-container-id-1 div.sk-parallel-item:last-child::after {align-self: flex-start;width: 50%;}#sk-container-id-1 div.sk-parallel-item:only-child::after {width: 0;}#sk-container-id-1 div.sk-dashed-wrapped {border: 1px dashed gray;margin: 0 0.4em 0.5em 0.4em;box-sizing: border-box;padding-bottom: 0.4em;background-color: white;}#sk-container-id-1 div.sk-label label {font-family: monospace;font-weight: bold;display: inline-block;line-height: 1.2em;}#sk-container-id-1 div.sk-label-container {text-align: center;}#sk-container-id-1 div.sk-container {/* jupyter's `normalize.less` sets `[hidden] { display: none; }` but bootstrap.min.css set `[hidden] { display: none !important; }` so we also need the `!important` here to be able to override the default hidden behavior on the sphinx rendered scikit-learn.org. See: https://github.com/scikit-learn/scikit-learn/issues/21755 */display: inline-block !important;position: relative;}#sk-container-id-1 div.sk-text-repr-fallback {display: none;}</style><div id=\"sk-container-id-1\" class=\"sk-top-container\"><div class=\"sk-text-repr-fallback\"><pre>LatentDirichletAllocation(n_components=6, random_state=0)</pre><b>In a Jupyter environment, please rerun this cell to show the HTML representation or trust the notebook. <br />On GitHub, the HTML representation is unable to render, please try loading this page with nbviewer.org.</b></div><div class=\"sk-container\" hidden><div class=\"sk-item\"><div class=\"sk-estimator sk-toggleable\"><input class=\"sk-toggleable__control sk-hidden--visually\" id=\"sk-estimator-id-1\" type=\"checkbox\" checked><label for=\"sk-estimator-id-1\" class=\"sk-toggleable__label sk-toggleable__label-arrow\">LatentDirichletAllocation</label><div class=\"sk-toggleable__content\"><pre>LatentDirichletAllocation(n_components=6, random_state=0)</pre></div></div></div></div></div>"
      ],
      "text/plain": [
       "LatentDirichletAllocation(n_components=6, random_state=0)"
      ]
     },
     "execution_count": 6,
     "metadata": {},
     "output_type": "execute_result"
    }
   ],
   "source": [
    "# #Step 2 - Initialize and fit the LDA model\n",
    "lda = LatentDirichletAllocation(n_components=6, random_state=0)\n",
    "lda.fit(dtm)"
   ]
  },
  {
   "cell_type": "code",
   "execution_count": 10,
   "metadata": {},
   "outputs": [
    {
     "name": "stdout",
     "output_type": "stream",
     "text": [
      "First 10 Restaurant Reviews:\n",
      "Document ID=1: Top-2 Topics: [2 3] (good eat delicious like food | gt real real estate estate investment)\n",
      "Document ID=2: Top-2 Topics: [2 4] (good eat delicious like food | film quot war also movie)\n",
      "Document ID=3: Top-2 Topics: [2 1] (good eat delicious like food | love people like life time)\n",
      "Document ID=4: Top-2 Topics: [2 1] (good eat delicious like food | love people like life time)\n",
      "Document ID=5: Top-2 Topics: [2 0] (good eat delicious like food | book quot people also life)\n",
      "Document ID=6: Top-2 Topics: [2 0] (good eat delicious like food | book quot people also life)\n",
      "Document ID=7: Top-2 Topics: [2 1] (good eat delicious like food | love people like life time)\n",
      "Document ID=8: Top-2 Topics: [2 5] (good eat delicious like food | quot film also quot quot people)\n",
      "Document ID=9: Top-2 Topics: [2 1] (good eat delicious like food | love people like life time)\n",
      "Document ID=10: Top-2 Topics: [1 2] (love people like life time | good eat delicious like food)\n",
      "\n",
      "First 10 Movie Reviews:\n",
      "Document ID=501: Top-2 Topics: [1 0] (love people like life time | book quot people also life)\n",
      "Document ID=502: Top-2 Topics: [5 0] (quot film also quot quot people | book quot people also life)\n",
      "Document ID=503: Top-2 Topics: [5 1] (quot film also quot quot people | love people like life time)\n",
      "Document ID=504: Top-2 Topics: [5 0] (quot film also quot quot people | book quot people also life)\n",
      "Document ID=505: Top-2 Topics: [5 0] (quot film also quot quot people | book quot people also life)\n",
      "Document ID=506: Top-2 Topics: [5 1] (quot film also quot quot people | love people like life time)\n",
      "Document ID=507: Top-2 Topics: [5 1] (quot film also quot quot people | love people like life time)\n",
      "Document ID=508: Top-2 Topics: [0 5] (book quot people also life | quot film also quot quot people)\n",
      "Document ID=509: Top-2 Topics: [5 4] (quot film also quot quot people | film quot war also movie)\n",
      "Document ID=510: Top-2 Topics: [1 5] (love people like life time | quot film also quot quot people)\n"
     ]
    }
   ],
   "source": [
    "#Step 3 - Get top N terms for each topic\n",
    "def get_top_terms_for_topic(model, feature_names, topic_idx, n_top_terms=5):\n",
    "    topic = model.components_[topic_idx]\n",
    "    top_terms = [feature_names[i] for i in topic.argsort()[:-n_top_terms - 1:-1]]\n",
    "    return \" \".join(top_terms)\n",
    "\n",
    "# print_top_topics function\n",
    "def print_top_topics_with_words(doc_indices):\n",
    "    for doc_index in doc_indices:\n",
    "        doc_topic = topic_distribution[doc_index]\n",
    "        top_topics = doc_topic.argsort()[-2:][::-1]  # Get indices of top 2 topics\n",
    "        top_topics_terms = [get_top_terms_for_topic(lda, feature_names, topic_idx) for topic_idx in top_topics]\n",
    "        print(f\"Document ID={doc_index + 1}: Top-2 Topics: {top_topics} ({top_topics_terms[0]} | {top_topics_terms[1]})\")\n",
    "\n",
    "# print the top 2 topics with words for the first 10 restaurant and movie reviews\n",
    "print(\"First 10 Restaurant Reviews:\")\n",
    "print_top_topics_with_words(range(0, 10))\n",
    "\n",
    "print(\"\\nFirst 10 Movie Reviews:\")\n",
    "print_top_topics_with_words(range(500, 510))\n",
    "\n"
   ]
  },
  {
   "cell_type": "code",
   "execution_count": 11,
   "metadata": {},
   "outputs": [
    {
     "name": "stdout",
     "output_type": "stream",
     "text": [
      "Topic 0: book quot people also life\n",
      "Topic 1: love people like life time\n",
      "Topic 2: good eat delicious like food\n",
      "Topic 3: gt real real estate estate investment\n",
      "Topic 4: film quot war also movie\n",
      "Topic 5: quot film also quot quot people\n"
     ]
    }
   ],
   "source": [
    "# Function to print top 5 terms for each topic\n",
    "def print_top_terms(model, feature_names, n_top_terms=5):\n",
    "    for topic_idx, topic in enumerate(model.components_):\n",
    "        print(f\"Topic {topic_idx}: \", end='')\n",
    "        print(\" \".join([feature_names[i] for i in topic.argsort()[:-n_top_terms - 1:-1]]))\n",
    "\n",
    "# Print top 5 terms for each topic\n",
    "feature_names = vectorizer.get_feature_names_out()\n",
    "print_top_terms(lda, feature_names)"
   ]
  },
  {
   "cell_type": "markdown",
   "metadata": {},
   "source": [
    "**Topic 0: book quot people also life**\n",
    "I think this topic is most likely about literature and quoting books. Particularly ones related to people and life.\n",
    "**Topic 1: love people like life time**\n",
    "This topic is about people, life, and love\n",
    "**Topic 2: good eat delicious like food**\n",
    "This topic is obviously about eating delicous and good food\n",
    "**Topic 3: gt real real estate estate investment**\n",
    "This one is about good real estate investments\n",
    "**Topic 4: film quot war also movie**\n",
    "This topic is about films, especially about war. Also quotes from the film or movie.\n",
    "**Topic 5: quot film also quot quot people**\n",
    "This topic is about quoting people from films\n",
    "\n",
    "**Review 1[ID=1]**\n",
    "I think this review is about a restaurant that has great food and also has a great location as far as real estate is concerned.\n",
    "\n",
    "**Review 501[ID=501]**\n",
    "This review is about a movie about life and people. There is also probably a book that this movie is based on."
   ]
  }
 ],
 "metadata": {
  "kernelspec": {
   "display_name": "base",
   "language": "python",
   "name": "python3"
  },
  "language_info": {
   "codemirror_mode": {
    "name": "ipython",
    "version": 3
   },
   "file_extension": ".py",
   "mimetype": "text/x-python",
   "name": "python",
   "nbconvert_exporter": "python",
   "pygments_lexer": "ipython3",
   "version": "3.11.3"
  }
 },
 "nbformat": 4,
 "nbformat_minor": 2
}
