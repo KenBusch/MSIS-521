{
 "cells": [
  {
   "cell_type": "code",
   "execution_count": null,
   "metadata": {},
   "outputs": [],
   "source": [
    "import pandas as pd\n",
    "import nltk\n",
    "from nltk.tokenize import word_tokenize\n",
    "from nltk.corpus import stopwords\n",
    "import string\n",
    "from sklearn.feature_extraction.text import TfidfVectorizer\n",
    "\n",
    "# Ensure you have the necessary NLTK datasets downloaded:\n",
    "nltk.download('punkt')\n",
    "nltk.download('wordnet')\n",
    "nltk.download('averaged_perceptron_tagger')\n",
    "nltk.download('stopwords')\n",
    "\n",
    "# Placeholder for loading your reviews\n",
    "# Assuming each review is in a separate text file and their paths are listed in IA2.csv\n",
    "df = pd.read_csv('IA2.csv')\n",
    "reviews = []\n",
    "\n",
    "for path in df['path_to_review']:\n",
    "    with open(path, 'r', encoding='utf-8') as file:\n",
    "        reviews.append(file.read())\n",
    "\n",
    "# Tokenization\n",
    "tokenized_reviews = [word_tokenize(review.lower()) for review in reviews]\n"
   ]
  }
 ],
 "metadata": {
  "language_info": {
   "name": "python"
  }
 },
 "nbformat": 4,
 "nbformat_minor": 2
}
