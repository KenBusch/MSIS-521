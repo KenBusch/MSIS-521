{
 "cells": [
  {
   "cell_type": "code",
   "execution_count": 1,
   "metadata": {},
   "outputs": [
    {
     "name": "stderr",
     "output_type": "stream",
     "text": [
      "[nltk_data] Downloading package punkt to\n",
      "[nltk_data]     C:\\Users\\Ken\\AppData\\Roaming\\nltk_data...\n",
      "[nltk_data]   Package punkt is already up-to-date!\n",
      "[nltk_data] Downloading package wordnet to\n",
      "[nltk_data]     C:\\Users\\Ken\\AppData\\Roaming\\nltk_data...\n",
      "[nltk_data]   Package wordnet is already up-to-date!\n",
      "[nltk_data] Downloading package averaged_perceptron_tagger to\n",
      "[nltk_data]     C:\\Users\\Ken\\AppData\\Roaming\\nltk_data...\n",
      "[nltk_data]   Package averaged_perceptron_tagger is already up-to-\n",
      "[nltk_data]       date!\n",
      "[nltk_data] Downloading package stopwords to\n",
      "[nltk_data]     C:\\Users\\Ken\\AppData\\Roaming\\nltk_data...\n",
      "[nltk_data]   Package stopwords is already up-to-date!\n",
      "[nltk_data] Downloading package omw-1.4 to\n",
      "[nltk_data]     C:\\Users\\Ken\\AppData\\Roaming\\nltk_data...\n",
      "[nltk_data]   Package omw-1.4 is already up-to-date!\n"
     ]
    },
    {
     "name": "stdout",
     "output_type": "stream",
     "text": [
      "TF-IDF vectors and POS-tagged TF-IDF vectors are saved.\n",
      "Step 4 TF-IDF Vector Dimensions: (100, 1383)\n",
      "Step 5 POS-Tagged TF-IDF Vector Dimensions: (100, 936)\n"
     ]
    }
   ],
   "source": [
    "# Import necessary libraries\n",
    "import pandas as pd\n",
    "import nltk\n",
    "from nltk.tokenize import word_tokenize\n",
    "from nltk.corpus import stopwords\n",
    "from nltk.stem import WordNetLemmatizer\n",
    "import string\n",
    "from sklearn.feature_extraction.text import TfidfVectorizer\n",
    "from nltk import pos_tag\n",
    "\n",
    "# Ensure necessary NLTK datasets are downloaded\n",
    "nltk.download('punkt')\n",
    "nltk.download('wordnet')\n",
    "nltk.download('averaged_perceptron_tagger')\n",
    "nltk.download('stopwords')\n",
    "nltk.download('omw-1.4')\n",
    "\n",
    "# Load reviews from the second column of the CSV file (no header)\n",
    "df = pd.read_csv('IA2.csv', header=None, usecols=[1])\n",
    "reviews = df[1].tolist()\n",
    "\n",
    "# Step 1: Tokenization\n",
    "tokenized_reviews = [word_tokenize(review.lower()) for review in reviews]\n",
    "\n",
    "# Step 2: Lemmatization\n",
    "lemmatizer = WordNetLemmatizer()\n",
    "lemmatized_reviews = [[lemmatizer.lemmatize(token) for token in tokens] for tokens in tokenized_reviews]\n",
    "\n",
    "# Step 3: Remove Stop-words and Punctuation\n",
    "stop_words = set(stopwords.words('english') + list(string.punctuation))\n",
    "filtered_reviews = [[token for token in tokens if token not in stop_words] for tokens in lemmatized_reviews]\n",
    "\n",
    "# Step 4: TF-IDF Vectorization (Including 2-grams)\n",
    "preprocessed_reviews = [' '.join(tokens) for tokens in filtered_reviews]\n",
    "tfidf_vectorizer = TfidfVectorizer(min_df=3, ngram_range=(1, 2))\n",
    "tfidf_vectors = tfidf_vectorizer.fit_transform(preprocessed_reviews)\n",
    "\n",
    "# Save the TF-IDF vectors to a CSV file\n",
    "tfidf_df = pd.DataFrame(tfidf_vectors.toarray(), columns=tfidf_vectorizer.get_feature_names_out())\n",
    "tfidf_df.to_csv('tfidf_vectors.csv', index=False)\n",
    "\n",
    "# Step 5: POS-Tagging and TF-IDF Vectorization\n",
    "pos_tagged_reviews = [pos_tag(tokens) for tokens in tokenized_reviews]\n",
    "pos_tagged_reviews_flat = [' '.join([f'{word}_{tag}' for word, tag in review]) for review in pos_tagged_reviews]\n",
    "\n",
    "tfidf_vectorizer_pos = TfidfVectorizer(min_df=4, norm=None, use_idf=True, smooth_idf=True)\n",
    "tfidf_vectors_pos = tfidf_vectorizer_pos.fit_transform(pos_tagged_reviews_flat)\n",
    "\n",
    "# Saving the POS-tagged TF-IDF vectors to a CSV file\n",
    "tfidf_df_pos = pd.DataFrame(tfidf_vectors_pos.toarray(), columns=tfidf_vectorizer_pos.get_feature_names_out())\n",
    "tfidf_df_pos.to_csv('tfidf_vectors_pos.csv', index=False)\n",
    "\n",
    "# Calculate dimensions\n",
    "tfidf_vectors_shape = tfidf_vectors.shape\n",
    "tfidf_vectors_pos_shape = tfidf_vectors_pos.shape\n",
    "\n",
    "print(\"TF-IDF vectors and POS-tagged TF-IDF vectors are saved.\")\n",
    "print(f\"Step 4 TF-IDF Vector Dimensions: {tfidf_vectors_shape}\")\n",
    "print(f\"Step 5 POS-Tagged TF-IDF Vector Dimensions: {tfidf_vectors_pos_shape}\")\n",
    "\n"
   ]
  }
 ],
 "metadata": {
  "kernelspec": {
   "display_name": "Python 3",
   "language": "python",
   "name": "python3"
  },
  "language_info": {
   "codemirror_mode": {
    "name": "ipython",
    "version": 3
   },
   "file_extension": ".py",
   "mimetype": "text/x-python",
   "name": "python",
   "nbconvert_exporter": "python",
   "pygments_lexer": "ipython3",
   "version": "3.11.3"
  }
 },
 "nbformat": 4,
 "nbformat_minor": 2
}
